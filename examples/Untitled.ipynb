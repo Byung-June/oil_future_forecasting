{
 "cells": [
  {
   "cell_type": "code",
   "execution_count": 1,
   "metadata": {},
   "outputs": [],
   "source": [
    "import pandas as pd\n",
    "import os\n",
    "import glob\n",
    "from sklearn.metrics import r2_score\n",
    "\n",
    "def r2_oos_func(data_):\n",
    "    data_ = pd.read_csv(data_, index_col=1)\n",
    "    data_ = data_.drop(columns=['Unnamed: 0'])\n",
    "    pred = data_.iloc[:, 0]\n",
    "    y = data_.iloc[:, 1]\n",
    "    r2_oos = 1 - sum(pow(pred-y, 2)) / sum(pow(y, 2))\n",
    "    # print(sum(pow(pred-y, 2)))\n",
    "    # print(sum(pow(y-data_.iloc[:, 1].mean(), 2)))\n",
    "    return r2_oos, data_\n",
    "\n",
    "def r2_oos_func_sklearn(data_):\n",
    "    data_ = pd.read_csv(data_, index_col=1)\n",
    "    data_ = data_.drop(columns=['Unnamed: 0'])\n",
    "    pred = data_.iloc[:, 0]\n",
    "    y = data_.iloc[:, 1]\n",
    "    r2_oos = r2_score(y, pred)\n",
    "    # print(sum(pow(pred-y, 2)))\n",
    "    # print(sum(pow(y-data_.iloc[:, 1].mean(), 2)))\n",
    "    return r2_oos, data_\n",
    "\n",
    "def r2_oos_func_sklearn2(data_, y_test):\n",
    "    data_ = pd.read_csv(data_, index_col=1)\n",
    "    data_ = data_.drop(columns=['Unnamed: 0'])\n",
    "    pred = data_.iloc[:, 0]\n",
    "    r2_oos = r2_score(y_test, pred)\n",
    "    # print(sum(pow(pred-y, 2)))\n",
    "    # print(sum(pow(y-data_.iloc[:, 1].mean(), 2)))\n",
    "    return r2_oos, data_"
   ]
  },
  {
   "cell_type": "code",
   "execution_count": 2,
   "metadata": {},
   "outputs": [],
   "source": [
    "path = os.getcwd()"
   ]
  },
  {
   "cell_type": "code",
   "execution_count": 3,
   "metadata": {},
   "outputs": [
    {
     "data": {
      "text/plain": [
       "'D:\\\\Dropbox\\\\6_git_repository\\\\oil_future_forecasting\\\\examples'"
      ]
     },
     "execution_count": 3,
     "metadata": {},
     "output_type": "execute_result"
    }
   ],
   "source": [
    "path"
   ]
  },
  {
   "cell_type": "code",
   "execution_count": 4,
   "metadata": {},
   "outputs": [],
   "source": [
    "names = glob.glob(path + \"/*.csv\")"
   ]
  },
  {
   "cell_type": "code",
   "execution_count": 5,
   "metadata": {},
   "outputs": [
    {
     "name": "stdout",
     "output_type": "stream",
     "text": [
      "-0.8249379540481885\n",
      "-5.745136439880317\n",
      "-2.395065656976716\n",
      "-5.588002182422977\n",
      "-1.1053733659097529\n",
      "-7.016047959770431\n",
      "-2.2999711878945024\n",
      "-3.8302040876505217\n",
      "-0.22727930408853325\n",
      "-0.17464195069040844\n",
      "-0.2653214322381692\n",
      "-0.5252512452653484\n"
     ]
    }
   ],
   "source": [
    "for name in names:\n",
    "    r2_oos, data = r2_oos_func_sklearn(name)\n",
    "    print(r2_oos)"
   ]
  },
  {
   "cell_type": "code",
   "execution_count": null,
   "metadata": {},
   "outputs": [],
   "source": []
  },
  {
   "cell_type": "code",
   "execution_count": 2,
   "metadata": {},
   "outputs": [
    {
     "name": "stdout",
     "output_type": "stream",
     "text": [
      "-2.3947126137443573\n"
     ]
    }
   ],
   "source": [
    "if __name__=='__main__':\n",
    "    # data = pd.read_csv('arima_5_52_10.csv', index_col=1)\n",
    "    # data = data.drop(columns=['Unnamed: 0'])\n",
    "    # print(data)\n",
    "\n",
    "    r2_oos, data = r2_oos_func('arima_5_15_0.csv')\n",
    "    print(r2_oos)"
   ]
  },
  {
   "cell_type": "code",
   "execution_count": null,
   "metadata": {},
   "outputs": [],
   "source": []
  }
 ],
 "metadata": {
  "kernelspec": {
   "display_name": "Python 3",
   "language": "python",
   "name": "python3"
  },
  "language_info": {
   "codemirror_mode": {
    "name": "ipython",
    "version": 3
   },
   "file_extension": ".py",
   "mimetype": "text/x-python",
   "name": "python",
   "nbconvert_exporter": "python",
   "pygments_lexer": "ipython3",
   "version": "3.7.6"
  }
 },
 "nbformat": 4,
 "nbformat_minor": 4
}
